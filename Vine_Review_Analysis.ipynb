{
  "nbformat": 4,
  "nbformat_minor": 0,
  "metadata": {
    "colab": {
      "name": "Vine_Review_Analysis.ipynb",
      "provenance": [],
      "collapsed_sections": []
    },
    "kernelspec": {
      "name": "python3",
      "display_name": "Python 3"
    },
    "language_info": {
      "name": "python"
    }
  },
  "cells": [
    {
      "cell_type": "code",
      "metadata": {
        "id": "YsI12DhyDahQ",
        "colab": {
          "base_uri": "https://localhost:8080/"
        },
        "outputId": "d3377d44-09eb-440e-a7d4-f5c967db5909"
      },
      "source": [
        "import os\n",
        "# Find the latest version of spark 2.0  from http://www-us.apache.org/dist/spark/ and enter as the spark version\n",
        "# For example:\n",
        "# spark_version = 'spark-3.0.0'\n",
        "spark_version = 'spark-3.0.2'\n",
        "os.environ['SPARK_VERSION']=spark_version\n",
        "\n",
        "# Install Spark and Java\n",
        "!apt-get update\n",
        "!apt-get install openjdk-11-jdk-headless -qq > /dev/null\n",
        "!wget -q http://www-us.apache.org/dist/spark/$SPARK_VERSION/$SPARK_VERSION-bin-hadoop2.7.tgz\n",
        "!tar xf $SPARK_VERSION-bin-hadoop2.7.tgz\n",
        "!pip install -q findspark\n",
        "\n",
        "# Set Environment Variables\n",
        "import os\n",
        "os.environ[\"JAVA_HOME\"] = \"/usr/lib/jvm/java-11-openjdk-amd64\"\n",
        "os.environ[\"SPARK_HOME\"] = f\"/content/{spark_version}-bin-hadoop2.7\"\n",
        "\n",
        "# Start a SparkSession\n",
        "import findspark\n",
        "findspark.init()"
      ],
      "execution_count": 2,
      "outputs": [
        {
          "output_type": "stream",
          "text": [
            "Get:1 https://cloud.r-project.org/bin/linux/ubuntu bionic-cran40/ InRelease [3,626 B]\n",
            "Ign:2 https://developer.download.nvidia.com/compute/cuda/repos/ubuntu1804/x86_64  InRelease\n",
            "Get:3 http://security.ubuntu.com/ubuntu bionic-security InRelease [88.7 kB]\n",
            "Get:4 http://ppa.launchpad.net/c2d4u.team/c2d4u4.0+/ubuntu bionic InRelease [15.9 kB]\n",
            "Ign:5 https://developer.download.nvidia.com/compute/machine-learning/repos/ubuntu1804/x86_64  InRelease\n",
            "Get:6 https://developer.download.nvidia.com/compute/cuda/repos/ubuntu1804/x86_64  Release [697 B]\n",
            "Hit:7 https://developer.download.nvidia.com/compute/machine-learning/repos/ubuntu1804/x86_64  Release\n",
            "Get:8 https://developer.download.nvidia.com/compute/cuda/repos/ubuntu1804/x86_64  Release.gpg [836 B]\n",
            "Get:9 https://cloud.r-project.org/bin/linux/ubuntu bionic-cran40/ Packages [60.9 kB]\n",
            "Hit:10 http://archive.ubuntu.com/ubuntu bionic InRelease\n",
            "Get:12 http://archive.ubuntu.com/ubuntu bionic-updates InRelease [88.7 kB]\n",
            "Hit:13 http://ppa.launchpad.net/cran/libgit2/ubuntu bionic InRelease\n",
            "Hit:14 http://ppa.launchpad.net/deadsnakes/ppa/ubuntu bionic InRelease\n",
            "Get:15 http://archive.ubuntu.com/ubuntu bionic-backports InRelease [74.6 kB]\n",
            "Ign:16 https://developer.download.nvidia.com/compute/cuda/repos/ubuntu1804/x86_64  Packages\n",
            "Get:16 https://developer.download.nvidia.com/compute/cuda/repos/ubuntu1804/x86_64  Packages [796 kB]\n",
            "Get:17 http://security.ubuntu.com/ubuntu bionic-security/restricted amd64 Packages [423 kB]\n",
            "Get:18 http://ppa.launchpad.net/graphics-drivers/ppa/ubuntu bionic InRelease [21.3 kB]\n",
            "Get:19 http://archive.ubuntu.com/ubuntu bionic-updates/restricted amd64 Packages [452 kB]\n",
            "Get:20 http://security.ubuntu.com/ubuntu bionic-security/universe amd64 Packages [1,412 kB]\n",
            "Get:21 http://ppa.launchpad.net/c2d4u.team/c2d4u4.0+/ubuntu bionic/main Sources [1,769 kB]\n",
            "Get:22 http://security.ubuntu.com/ubuntu bionic-security/main amd64 Packages [2,152 kB]\n",
            "Get:23 http://archive.ubuntu.com/ubuntu bionic-updates/universe amd64 Packages [2,183 kB]\n",
            "Get:24 http://archive.ubuntu.com/ubuntu bionic-updates/main amd64 Packages [2,583 kB]\n",
            "Get:25 http://ppa.launchpad.net/c2d4u.team/c2d4u4.0+/ubuntu bionic/main amd64 Packages [905 kB]\n",
            "Get:26 http://ppa.launchpad.net/graphics-drivers/ppa/ubuntu bionic/main amd64 Packages [41.5 kB]\n",
            "Fetched 13.1 MB in 7s (1,822 kB/s)\n",
            "Reading package lists... Done\n"
          ],
          "name": "stdout"
        }
      ]
    },
    {
      "cell_type": "code",
      "metadata": {
        "id": "Zz6gWb2aFGRU",
        "colab": {
          "base_uri": "https://localhost:8080/"
        },
        "outputId": "326aad82-dc75-4aa4-9a3d-4992588ff683"
      },
      "source": [
        "# Download the Postgres driver that will allow Spark to interact with Postgres.\n",
        "!wget https://jdbc.postgresql.org/download/postgresql-42.2.16.jar"
      ],
      "execution_count": 3,
      "outputs": [
        {
          "output_type": "stream",
          "text": [
            "--2021-05-23 19:18:33--  https://jdbc.postgresql.org/download/postgresql-42.2.16.jar\n",
            "Resolving jdbc.postgresql.org (jdbc.postgresql.org)... 72.32.157.228, 2001:4800:3e1:1::228\n",
            "Connecting to jdbc.postgresql.org (jdbc.postgresql.org)|72.32.157.228|:443... connected.\n",
            "HTTP request sent, awaiting response... 200 OK\n",
            "Length: 1002883 (979K) [application/java-archive]\n",
            "Saving to: ‘postgresql-42.2.16.jar’\n",
            "\n",
            "postgresql-42.2.16. 100%[===================>] 979.38K  1.21MB/s    in 0.8s    \n",
            "\n",
            "2021-05-23 19:18:35 (1.21 MB/s) - ‘postgresql-42.2.16.jar’ saved [1002883/1002883]\n",
            "\n"
          ],
          "name": "stdout"
        }
      ]
    },
    {
      "cell_type": "code",
      "metadata": {
        "id": "wbNvm4gfFG-v"
      },
      "source": [
        "from pyspark.sql import SparkSession\n",
        "spark = SparkSession.builder.appName(\"BigData-Challenge\").config(\"spark.driver.extraClassPath\",\"/content/postgresql-42.2.16.jar\").getOrCreate()"
      ],
      "execution_count": 4,
      "outputs": []
    },
    {
      "cell_type": "code",
      "metadata": {
        "id": "mdD6g_HMFPpR",
        "colab": {
          "base_uri": "https://localhost:8080/"
        },
        "outputId": "8d39497b-37f6-4929-e0ad-ed79ebca4d03"
      },
      "source": [
        "from pyspark import SparkFiles\n",
        "url = \"https://s3.amazonaws.com/amazon-reviews-pds/tsv/amazon_reviews_us_Home_Improvement_v1_00.tsv.gz\"\n",
        "spark.sparkContext.addFile(url)\n",
        "df = spark.read.option(\"encoding\", \"UTF-8\").csv(SparkFiles.get(\"\"), sep=\"\\t\", header=True, inferSchema=True)\n",
        "df.show()"
      ],
      "execution_count": 5,
      "outputs": [
        {
          "output_type": "stream",
          "text": [
            "+-----------+-----------+--------------+----------+--------------+--------------------+----------------+-----------+-------------+-----------+----+-----------------+--------------------+--------------------+-----------+\n",
            "|marketplace|customer_id|     review_id|product_id|product_parent|       product_title|product_category|star_rating|helpful_votes|total_votes|vine|verified_purchase|     review_headline|         review_body|review_date|\n",
            "+-----------+-----------+--------------+----------+--------------+--------------------+----------------+-----------+-------------+-----------+----+-----------------+--------------------+--------------------+-----------+\n",
            "|         US|   48881148|R215C9BDXTDQOW|B00FR4YQYK|     381800308|SadoTech Model C ...|Home Improvement|          4|            0|          0|   N|                Y|          Four Stars|        good product| 2015-08-31|\n",
            "|         US|   47882936|R1DTPUV1J57YHA|B00439MYYE|     921341748|iSpring T32M 3.2 ...|Home Improvement|          5|            0|          0|   N|                Y|Good price, quick...|Good price, quick...| 2015-08-31|\n",
            "|         US|   44435471| RFAZK5EWKJWOU|B00002N762|      56053291|Schlage F10CS V E...|Home Improvement|          5|            0|          0|   N|                Y|          Five Stars|       Excellent...!| 2015-08-31|\n",
            "|         US|   28377689|R2XT8X0O0WS1AL|B000QFCP1G|     595928517|Citri-Strip QCG73...|Home Improvement|          5|            0|          0|   N|                Y|Although *slightl...|Although *slightl...| 2015-08-31|\n",
            "|         US|   50134766|R14GRNANKO2Y2J|B00WRCRKOI|     417053744|SleekLighting Bul...|Home Improvement|          5|            0|          0|   N|                Y|      Great Adapters|These adapters ar...| 2015-08-31|\n",
            "|         US|   14066511|R2BLF9VYL24LCQ|B00NIH88EW|     275395071|VDOMUS&reg;Exquis...|Home Improvement|          5|            1|          1|   N|                Y|                nice|awesome and great...| 2015-08-31|\n",
            "|         US|   15211046|R1GI9UW5KJ671O|B005B9CI96|     856617815|Frigidaire 316075...|Home Improvement|          5|            0|          0|   N|                Y|          Five Stars|Perfect. Exactly ...| 2015-08-31|\n",
            "|         US|   14862498|R2H5CEJN863M86|B008L0OMWI|     125102494|Anyray® 5-Bulbs 7...|Home Improvement|          5|            0|          1|   N|                Y|So far working gr...|So far working gr...| 2015-08-31|\n",
            "|         US|   23617292| R5PPDHFOZ3SMU|B00P9FTC6O|     523110842|Cambridge 100 pcs...|Home Improvement|          5|            0|          0|   N|                Y|           Ties tie.|Not much to say a...| 2015-08-31|\n",
            "|         US|   35820485| RE1L9IENKJJ7Y|B00K6BQEHQ|     797306964|EUBUY Silver Tone...|Home Improvement|          1|            0|          0|   N|                Y|             GARBAGE|       crap quality.| 2015-08-31|\n",
            "|         US|   47162350|R3CZ0990QC2Z0H|B008BYQCWM|     865874404|Legend 809125 Leg...|Home Improvement|          5|            0|          0|   N|                Y|          Five Stars|  Good. As expected.| 2015-08-31|\n",
            "|         US|   31884789|R3UMMD2IO29QSP|B003BLHTOU|     183592595|Forearm Forklift ...|Home Improvement|          5|            0|          0|   N|                Y|           It works!|My husband and I ...| 2015-08-31|\n",
            "|         US|   43835770| R541LE5J3OJH2|B0065I114K|     185006358|Newer Technology ...|Home Improvement|          5|            0|          0|   N|                Y|          Five Stars|     works perfectly| 2015-08-31|\n",
            "|         US|   26212294|R10KD9FIE6Y1AS|B00J9XB6BQ|      53423207|Rok Hardware 25 P...|Home Improvement|          5|            0|          0|   N|                Y|Banging cabinet d...|Banging cabinet d...| 2015-08-31|\n",
            "|         US|   17876704|R1YT5YG0QG5DCG|B00K36NJ0E|     593464633|Drift Light Using...|Home Improvement|          5|            0|          0|   N|                Y|Great product for...|Great product for...| 2015-08-31|\n",
            "|         US|   22813225|R207LXJWL40V1S|B000ZIEOHW|     833911812|Troy DPH11 Profes...|Home Improvement|          4|            0|          0|   N|                Y|GETTING THE JOB D...|Drywalling our 18...| 2015-08-31|\n",
            "|         US|   25448576| RIDP0ZD7WT9DE|B0009YDHKC|     852173443|Wright Products V...|Home Improvement|          5|            0|          0|   N|                Y|          Five Stars|exact replacement...| 2015-08-31|\n",
            "|         US|   19754503|R2XJSNZ9219U1Z|B00LBGVLS2|     929968058|LiftMaster Garage...|Home Improvement|          5|            0|          0|   N|                Y|Easy to program g...|Works as advertis...| 2015-08-31|\n",
            "|         US|   17767084|R2M9F1FVVDOGFL|B00002N5DY|     830214712|Heath Zenith SL-5...|Home Improvement|          5|            0|          0|   N|                Y|     easy to install|Working well the ...| 2015-08-31|\n",
            "|         US|   48001709|R1QTOSE2BHU2LJ|B000BQOX88|     498022954|Intermatic T101 2...|Home Improvement|          3|            1|          2|   N|                Y|Kind of disappoin...|I connected the r...| 2015-08-31|\n",
            "+-----------+-----------+--------------+----------+--------------+--------------------+----------------+-----------+-------------+-----------+----+-----------------+--------------------+--------------------+-----------+\n",
            "only showing top 20 rows\n",
            "\n"
          ],
          "name": "stdout"
        }
      ]
    },
    {
      "cell_type": "code",
      "metadata": {
        "id": "HkjKPFz5FRgk"
      },
      "source": [
        "#filter the dataset for total_votes being greater than or equal to 20\n",
        "vine_df = df.select([\"review_id\",\"star_rating\",\"helpful_votes\",\"total_votes\",\"vine\",\"verified_purchase\"])\n",
        "vote_count = df.filter(\"total_votes >= 20\")"
      ],
      "execution_count": 6,
      "outputs": []
    },
    {
      "cell_type": "code",
      "metadata": {
        "id": "e2YFVzAvnWpe",
        "colab": {
          "base_uri": "https://localhost:8080/"
        },
        "outputId": "a3c7caf8-f546-4f21-94ce-77048b16c01b"
      },
      "source": [
        "#create a new DataFrame or table to retrieve all the rows where the number of helpful_votes divided by total_votes is equal to or greater than 50%.\n",
        "new_table = vote_count.filter(vote_count[\"helpful_votes\"]/vote_count[\"total_votes\"]>=0.5)\n",
        "new_table.show()"
      ],
      "execution_count": 8,
      "outputs": [
        {
          "output_type": "stream",
          "text": [
            "+-----------+-----------+--------------+----------+--------------+--------------------+----------------+-----------+-------------+-----------+----+-----------------+--------------------+--------------------+-----------+\n",
            "|marketplace|customer_id|     review_id|product_id|product_parent|       product_title|product_category|star_rating|helpful_votes|total_votes|vine|verified_purchase|     review_headline|         review_body|review_date|\n",
            "+-----------+-----------+--------------+----------+--------------+--------------------+----------------+-----------+-------------+-----------+----+-----------------+--------------------+--------------------+-----------+\n",
            "|         US|   42943632|R2VIQ3UX794Q0O|B00YMNSCYM|      74738477|LE LED Under Cabi...|Home Improvement|          4|           21|         21|   N|                Y|Nice Kit, I showe...|Nice Kit, I showe...| 2015-08-31|\n",
            "|         US|   24649241|R1OA24IIHWF54G|B00YI5TNXI|     813068315|Hyperikon BR20-Se...|Home Improvement|          5|           43|         45|   N|                Y|My search is over...|I've been researc...| 2015-08-31|\n",
            "|         US|   51065313| RJ7N3OOJR9RL0|B00VJ4SFZI|     646970464|Brightech Litespa...|Home Improvement|          4|           63|         71|   N|                Y|http://www.amazon...|This is the task ...| 2015-08-31|\n",
            "|         US|   14622482|R1W8778CBXSRU6|B011ES5L46|     830125005|Pakel High Perfor...|Home Improvement|          5|           28|         29|   N|                Y|These little work...|[[VIDEOID:e814b7b...| 2015-08-31|\n",
            "|         US|   14698057|R2EFAM03SWLIJX|B00Z9J18SU|     470009225|Gladle® Solar Pow...|Home Improvement|          1|           32|         35|   N|                Y|VERY disappointed...|This was VERY mis...| 2015-08-31|\n",
            "|         US|   39761005|R3F8P56ZDJ6PI8|B00XJBCVZO|     347633440|Inateck Laptop Ba...|Home Improvement|          4|          106|        115|   N|                Y|TOO BIG for Macbo...|The quality of th...| 2015-08-31|\n",
            "|         US|   49633002|R2QYLQEK9UAJQ6|B013GA5GCW|     211565965|Yellow Diamond Wa...|Home Improvement|          5|           33|         34|   N|                Y|Pretty lights! Ex...|I bought four pac...| 2015-08-31|\n",
            "|         US|   35888949| RQCC7XNYI014B|B00NHX2A9Q|     168659897|Thai Vintage Hand...|Home Improvement|          1|           91|         92|   N|                Y|I high recommend ...|SERIOUS SAFETY IS...| 2015-08-31|\n",
            "|         US|   44752631|R2U8FRHRVW5D2C|B00U82D0PM|      13415557|Command Broom & M...|Home Improvement|          5|           23|         23|   N|                N|       great product|Used on the side ...| 2015-08-31|\n",
            "|         US|   13502341|R3RJZC5J4VP7AT|B00ESVCRJO|      29756927|iSmartAlarm Prefe...|Home Improvement|          4|           86|         91|   N|                N|Great on paper, t...|I have had the iS...| 2015-08-31|\n",
            "|         US|   18586062|R2KBV3A9X53ULG|B00U3NSIOY|     438630278|Eyekepper Brushed...|Home Improvement|          5|           39|         45|   N|                Y|  Magnificent Faucet|We bought this fa...| 2015-08-31|\n",
            "|         US|   30593209|R18XX6GVZ41CY1|B00SZASXD8|     512858965|Speed Queen AWNE9...|Home Improvement|          5|           21|         22|   N|                N|No lid sensor PLEASE|First I want to s...| 2015-08-31|\n",
            "|         US|   44648561|R3V8NHJWQWOU7S|B0042HN26Q|     743700654|Werner Fire Escap...|Home Improvement|          5|           27|         27|   N|                Y|Really easy to in...|Install was reall...| 2015-08-31|\n",
            "|         US|   25349691|R25FJV7A58YHEM|B00OXO8J70|     395053938|Wolf-Guard New Wi...|Home Improvement|          1|           19|         22|   N|                Y|This is a scam. T...|This is a scam. T...| 2015-08-31|\n",
            "|         US|   52999081|R285Z02CQJJ36C|B00YP4A1U6|     896527074|Desk Lamp, TROND ...|Home Improvement|          3|           45|         48|   N|                Y|Nice LED lamp, bu...|I bought two of t...| 2015-08-31|\n",
            "|         US|   13048505| R5UJCOLQBEADG|B00MHLII8Q|     925158438|LE 10W Super Brig...|Home Improvement|          1|           31|         35|   N|                Y|Great looking but...|I bought 5 of the...| 2015-08-31|\n",
            "|         US|   24306553|R1KEUH7SZ9BIRK|B00ZAQMO4O|     929087443|Hidden Safe Fake ...|Home Improvement|          1|           20|         20|   N|                Y|        Horrible buy|Extremely unsatis...| 2015-08-31|\n",
            "|         US|   36401398|R16U59S8ZJGPLY|B00N22D3FW|     150174306|HomCom Interior S...|Home Improvement|          5|           64|         64|   N|                Y|It turned out so ...|We ordered this h...| 2015-08-31|\n",
            "|         US|   13303464|R233D4SD2MHUZG|B0013AX62K|     606824716|Scotch Tough Duct...|Home Improvement|          5|           20|         20|   N|                Y|Great for Fixing ...|This is very stro...| 2015-08-31|\n",
            "|         US|   51823416| RVDGV2G8PEUH2|B00WTCSEG4|     199476527|Outdoor Home Ligh...|Home Improvement|          1|           13|         21|   N|                N|       Paid Reviews?|I was about to bu...| 2015-08-31|\n",
            "+-----------+-----------+--------------+----------+--------------+--------------------+----------------+-----------+-------------+-----------+----+-----------------+--------------------+--------------------+-----------+\n",
            "only showing top 20 rows\n",
            "\n"
          ],
          "name": "stdout"
        }
      ]
    },
    {
      "cell_type": "code",
      "metadata": {
        "id": "6_fADwFVnZeJ",
        "colab": {
          "base_uri": "https://localhost:8080/"
        },
        "outputId": "a36aab50-dd12-499a-a31b-fc130627d036"
      },
      "source": [
        "#reate a new DataFrame or table that retrieves all the rows where a review was written as part of the Vine program (paid), vine == 'Y'\n",
        "paid_df = new_table.filter(new_table[\"vine\"] == \"Y\")\n",
        "paid_df.show()\n"
      ],
      "execution_count": 38,
      "outputs": [
        {
          "output_type": "stream",
          "text": [
            "+-----------+-----------+--------------+----------+--------------+--------------------+----------------+-----------+-------------+-----------+----+-----------------+--------------------+--------------------+-----------+\n",
            "|marketplace|customer_id|     review_id|product_id|product_parent|       product_title|product_category|star_rating|helpful_votes|total_votes|vine|verified_purchase|     review_headline|         review_body|review_date|\n",
            "+-----------+-----------+--------------+----------+--------------+--------------------+----------------+-----------+-------------+-----------+----+-----------------+--------------------+--------------------+-----------+\n",
            "|         US|   53093730|R29V4UDSS053D8|B00P6ORMR4|     406381545|Aquasana AQ-RO-3....|Home Improvement|          3|           33|         38|   Y|                N|Not for average h...|This filter is ov...| 2015-08-30|\n",
            "|         US|   25984637|R1I2D068WC37PA|B00ZWBURWI|     302288140|Myfox Security Ca...|Home Improvement|          3|           32|         37|   Y|                N|Great Camera, lov...|This is a pretty ...| 2015-08-19|\n",
            "|         US|   45260241|R13W2U74F67QED|B00YEMKIY8|      21565048|Philips 455709 10...|Home Improvement|          5|           62|         76|   Y|                N|Nice size, works ...|These bulbs are r...| 2015-07-10|\n",
            "|         US|   52154507|R2QI37XFOBKUGD|B00YEMKIY8|      21565048|Philips 455709 10...|Home Improvement|          4|           24|         33|   Y|                N|        Great value!|These Philips lig...| 2015-07-10|\n",
            "|         US|   52886473|R19F60BB2DNCKN|B00XPW6824|     521904536|Lutron P-BDG-PKG2...|Home Improvement|          5|          170|        174|   Y|                N|Tricky wiring job...|I found the dimme...| 2015-07-05|\n",
            "|         US|   47748308|R2PYNEWYYQDWHI|B00S8ERF3A|     269185706|Kohler K-5540 Pro...|Home Improvement|          5|           24|         27|   Y|                N|         Great sink!|This sink is amaz...| 2015-06-22|\n",
            "|         US|   47914576|R1UEWHCPJL2XJB|B00VJZVMSO|     502763110|Rubbermaid RM-PL1...|Home Improvement|          5|           70|         72|   Y|                N|Compares Favorabl...|[[VIDEOID:5b30a9d...| 2015-06-14|\n",
            "|         US|   51865210| RXTMMEBRYZB53|B00SBC0LTE|     886051670|Intermatic Smart ...|Home Improvement|          5|           21|         24|   Y|                N|  Serious Protection|Your need for thi...| 2015-06-12|\n",
            "|         US|   51956455|R1PXVYIYMYGUZL|B00SBC0LTE|     886051670|Intermatic Smart ...|Home Improvement|          5|           21|         26|   Y|                N|Sorry about writi...|There is a lot of...| 2015-06-05|\n",
            "|         US|   20574570| RSFMJJXFZHX1C|B00X6E0O4O|     856831496|Kwikset 99150-002...|Home Improvement|          5|           24|         25|   Y|                N|Well Built, Easy ...|I was looking for...| 2015-06-04|\n",
            "|         US|   53068834|R3AGOANU5B89WE|B00X6E0O4O|     856831496|Kwikset 99150-002...|Home Improvement|          4|           20|         21|   Y|                N|A Good Product - ...|First off, it's i...| 2015-06-03|\n",
            "|         US|   51220229|R1Z849RVP83BSJ|B00P6ORMR4|     406381545|Aquasana AQ-RO-3....|Home Improvement|          5|           21|         23|   Y|                N|Installation is a...|This big, robust ...| 2015-05-26|\n",
            "|         US|   50699505|R2HQVKK2QW0EAT|B00S8ERF3A|     269185706|Kohler K-5540 Pro...|Home Improvement|          5|           20|         24|   Y|                N|Exceptionally bea...|This particular s...| 2015-05-25|\n",
            "|         US|   31476218|  RHSOAAAT5UVP|B00P6ORMR4|     406381545|Aquasana AQ-RO-3....|Home Improvement|          5|           55|         56|   Y|                N|Let's Get Creativ...|Let's get creativ...| 2015-05-18|\n",
            "|         US|   52822254| RZXDK1RE3YQ97|B00U82D0PM|      13415557|Command Broom & M...|Home Improvement|          4|           18|         21|   Y|                N|Wall-Stickin’ Han...|This is a clever ...| 2015-05-04|\n",
            "|         US|   53082379|R2IQH4H2S5EROF|B00QRJALYI|     455841669|Delta Faucet Lela...|Home Improvement|          5|           23|         24|   Y|                N|This Faucet Is AM...|Our old kitchen f...| 2015-04-29|\n",
            "|         US|   51242401| R2BQ1FHU7OQPQ|B00TA85LM0|      54413779|Delta 58480-PK In...|Home Improvement|          5|          212|        220|   Y|                N|Very convenient, ...|I got this for my...| 2015-04-11|\n",
            "|         US|   30937618| RH1A5XB16O3BM|B00SSCC18G|     588655926|Illuminada Modern...|Home Improvement|          4|           28|         32|   Y|                N|Looks more expens...|This lamp has a w...| 2015-04-09|\n",
            "|         US|   52886473| R4MAE8LHKDZMG|B00CAO4NUM|     497908102|Lutron Maestro LE...|Home Improvement|          5|           36|         39|   Y|                Y|Why it’s good to ...|This Lutron  MSCL...| 2015-04-06|\n",
            "|         US|   52894753|R2QLNOOJ4J16D2|B00TA85LM0|      54413779|Delta 58480-PK In...|Home Improvement|          3|          111|        118|   Y|                N|Look for one with...|This shower head ...| 2015-03-28|\n",
            "+-----------+-----------+--------------+----------+--------------+--------------------+----------------+-----------+-------------+-----------+----+-----------------+--------------------+--------------------+-----------+\n",
            "only showing top 20 rows\n",
            "\n"
          ],
          "name": "stdout"
        }
      ]
    },
    {
      "cell_type": "code",
      "metadata": {
        "colab": {
          "base_uri": "https://localhost:8080/"
        },
        "id": "nbgxlJkPrISE",
        "outputId": "6e399570-de8f-4249-b0d3-8ab7fd2121c9"
      },
      "source": [
        "#new_table.filter(new_table[\"vine\"] == \"Y\").count()\n",
        "paid_df.count()"
      ],
      "execution_count": 40,
      "outputs": [
        {
          "output_type": "execute_result",
          "data": {
            "text/plain": [
              "266"
            ]
          },
          "metadata": {
            "tags": []
          },
          "execution_count": 40
        }
      ]
    },
    {
      "cell_type": "code",
      "metadata": {
        "id": "whCdAbQ8naF5",
        "colab": {
          "base_uri": "https://localhost:8080/"
        },
        "outputId": "14424314-d5cc-47d3-e0fb-028c209701d1"
      },
      "source": [
        "#Create a new DataFrame or table that retrieves all the rows where a review was written as part of the Vine program (paid), vine == 'N'\n",
        "unpaid_df = new_table.filter(new_table[\"vine\"] == \"N\")\n",
        "unpaid_df.show()"
      ],
      "execution_count": 41,
      "outputs": [
        {
          "output_type": "stream",
          "text": [
            "+-----------+-----------+--------------+----------+--------------+--------------------+----------------+-----------+-------------+-----------+----+-----------------+--------------------+--------------------+-----------+\n",
            "|marketplace|customer_id|     review_id|product_id|product_parent|       product_title|product_category|star_rating|helpful_votes|total_votes|vine|verified_purchase|     review_headline|         review_body|review_date|\n",
            "+-----------+-----------+--------------+----------+--------------+--------------------+----------------+-----------+-------------+-----------+----+-----------------+--------------------+--------------------+-----------+\n",
            "|         US|   42943632|R2VIQ3UX794Q0O|B00YMNSCYM|      74738477|LE LED Under Cabi...|Home Improvement|          4|           21|         21|   N|                Y|Nice Kit, I showe...|Nice Kit, I showe...| 2015-08-31|\n",
            "|         US|   24649241|R1OA24IIHWF54G|B00YI5TNXI|     813068315|Hyperikon BR20-Se...|Home Improvement|          5|           43|         45|   N|                Y|My search is over...|I've been researc...| 2015-08-31|\n",
            "|         US|   51065313| RJ7N3OOJR9RL0|B00VJ4SFZI|     646970464|Brightech Litespa...|Home Improvement|          4|           63|         71|   N|                Y|http://www.amazon...|This is the task ...| 2015-08-31|\n",
            "|         US|   14622482|R1W8778CBXSRU6|B011ES5L46|     830125005|Pakel High Perfor...|Home Improvement|          5|           28|         29|   N|                Y|These little work...|[[VIDEOID:e814b7b...| 2015-08-31|\n",
            "|         US|   14698057|R2EFAM03SWLIJX|B00Z9J18SU|     470009225|Gladle® Solar Pow...|Home Improvement|          1|           32|         35|   N|                Y|VERY disappointed...|This was VERY mis...| 2015-08-31|\n",
            "|         US|   39761005|R3F8P56ZDJ6PI8|B00XJBCVZO|     347633440|Inateck Laptop Ba...|Home Improvement|          4|          106|        115|   N|                Y|TOO BIG for Macbo...|The quality of th...| 2015-08-31|\n",
            "|         US|   49633002|R2QYLQEK9UAJQ6|B013GA5GCW|     211565965|Yellow Diamond Wa...|Home Improvement|          5|           33|         34|   N|                Y|Pretty lights! Ex...|I bought four pac...| 2015-08-31|\n",
            "|         US|   35888949| RQCC7XNYI014B|B00NHX2A9Q|     168659897|Thai Vintage Hand...|Home Improvement|          1|           91|         92|   N|                Y|I high recommend ...|SERIOUS SAFETY IS...| 2015-08-31|\n",
            "|         US|   44752631|R2U8FRHRVW5D2C|B00U82D0PM|      13415557|Command Broom & M...|Home Improvement|          5|           23|         23|   N|                N|       great product|Used on the side ...| 2015-08-31|\n",
            "|         US|   13502341|R3RJZC5J4VP7AT|B00ESVCRJO|      29756927|iSmartAlarm Prefe...|Home Improvement|          4|           86|         91|   N|                N|Great on paper, t...|I have had the iS...| 2015-08-31|\n",
            "|         US|   18586062|R2KBV3A9X53ULG|B00U3NSIOY|     438630278|Eyekepper Brushed...|Home Improvement|          5|           39|         45|   N|                Y|  Magnificent Faucet|We bought this fa...| 2015-08-31|\n",
            "|         US|   30593209|R18XX6GVZ41CY1|B00SZASXD8|     512858965|Speed Queen AWNE9...|Home Improvement|          5|           21|         22|   N|                N|No lid sensor PLEASE|First I want to s...| 2015-08-31|\n",
            "|         US|   44648561|R3V8NHJWQWOU7S|B0042HN26Q|     743700654|Werner Fire Escap...|Home Improvement|          5|           27|         27|   N|                Y|Really easy to in...|Install was reall...| 2015-08-31|\n",
            "|         US|   25349691|R25FJV7A58YHEM|B00OXO8J70|     395053938|Wolf-Guard New Wi...|Home Improvement|          1|           19|         22|   N|                Y|This is a scam. T...|This is a scam. T...| 2015-08-31|\n",
            "|         US|   52999081|R285Z02CQJJ36C|B00YP4A1U6|     896527074|Desk Lamp, TROND ...|Home Improvement|          3|           45|         48|   N|                Y|Nice LED lamp, bu...|I bought two of t...| 2015-08-31|\n",
            "|         US|   13048505| R5UJCOLQBEADG|B00MHLII8Q|     925158438|LE 10W Super Brig...|Home Improvement|          1|           31|         35|   N|                Y|Great looking but...|I bought 5 of the...| 2015-08-31|\n",
            "|         US|   24306553|R1KEUH7SZ9BIRK|B00ZAQMO4O|     929087443|Hidden Safe Fake ...|Home Improvement|          1|           20|         20|   N|                Y|        Horrible buy|Extremely unsatis...| 2015-08-31|\n",
            "|         US|   36401398|R16U59S8ZJGPLY|B00N22D3FW|     150174306|HomCom Interior S...|Home Improvement|          5|           64|         64|   N|                Y|It turned out so ...|We ordered this h...| 2015-08-31|\n",
            "|         US|   13303464|R233D4SD2MHUZG|B0013AX62K|     606824716|Scotch Tough Duct...|Home Improvement|          5|           20|         20|   N|                Y|Great for Fixing ...|This is very stro...| 2015-08-31|\n",
            "|         US|   51823416| RVDGV2G8PEUH2|B00WTCSEG4|     199476527|Outdoor Home Ligh...|Home Improvement|          1|           13|         21|   N|                N|       Paid Reviews?|I was about to bu...| 2015-08-31|\n",
            "+-----------+-----------+--------------+----------+--------------+--------------------+----------------+-----------+-------------+-----------+----+-----------------+--------------------+--------------------+-----------+\n",
            "only showing top 20 rows\n",
            "\n"
          ],
          "name": "stdout"
        }
      ]
    },
    {
      "cell_type": "code",
      "metadata": {
        "colab": {
          "base_uri": "https://localhost:8080/"
        },
        "id": "ZDbwtnWeu5lH",
        "outputId": "33c53574-1aa6-42be-b879-41e2d4d8ffff"
      },
      "source": [
        "unpaid_df.count()"
      ],
      "execution_count": 42,
      "outputs": [
        {
          "output_type": "execute_result",
          "data": {
            "text/plain": [
              "38829"
            ]
          },
          "metadata": {
            "tags": []
          },
          "execution_count": 42
        }
      ]
    },
    {
      "cell_type": "code",
      "metadata": {
        "id": "Ay_CEI0lnaJt",
        "colab": {
          "base_uri": "https://localhost:8080/"
        },
        "outputId": "38de3550-297b-4b25-d5f0-245ac8026803"
      },
      "source": [
        "# number of five star reviews\n",
        "five_star = new_table.filter(new_table[\"star_rating\"]== 5)\n",
        "five_star.cache()"
      ],
      "execution_count": 30,
      "outputs": [
        {
          "output_type": "execute_result",
          "data": {
            "text/plain": [
              "DataFrame[marketplace: string, customer_id: int, review_id: string, product_id: string, product_parent: int, product_title: string, product_category: string, star_rating: int, helpful_votes: int, total_votes: int, vine: string, verified_purchase: string, review_headline: string, review_body: string, review_date: string]"
            ]
          },
          "metadata": {
            "tags": []
          },
          "execution_count": 30
        }
      ]
    },
    {
      "cell_type": "code",
      "metadata": {
        "colab": {
          "base_uri": "https://localhost:8080/"
        },
        "id": "g6j6numfxEt6",
        "outputId": "1370a1cc-1d1d-4800-d4c0-24422951a45d"
      },
      "source": [
        "paid_five_star_reviews = paid_df.filter(paid_df.star_rating == 5).count()\n",
        "paid_five_star_reviews"
      ],
      "execution_count": 43,
      "outputs": [
        {
          "output_type": "execute_result",
          "data": {
            "text/plain": [
              "125"
            ]
          },
          "metadata": {
            "tags": []
          },
          "execution_count": 43
        }
      ]
    },
    {
      "cell_type": "code",
      "metadata": {
        "id": "pXDLFk35FYm4",
        "colab": {
          "base_uri": "https://localhost:8080/"
        },
        "outputId": "79e18d56-077f-4606-f692-22435d35c9c2"
      },
      "source": [
        "five_star.count()"
      ],
      "execution_count": 31,
      "outputs": [
        {
          "output_type": "execute_result",
          "data": {
            "text/plain": [
              "18371"
            ]
          },
          "metadata": {
            "tags": []
          },
          "execution_count": 31
        }
      ]
    },
    {
      "cell_type": "code",
      "metadata": {
        "colab": {
          "base_uri": "https://localhost:8080/"
        },
        "id": "6elm5H9Py-E8",
        "outputId": "d9be0487-d06d-4d40-c19d-b8bd905464ba"
      },
      "source": [
        "# unpaid 5-star reviews\n",
        "unpaid_five_star_reviews = unpaid_df.filter(unpaid_df.star_rating == 5).count()\n",
        "unpaid_five_star_reviews"
      ],
      "execution_count": 44,
      "outputs": [
        {
          "output_type": "execute_result",
          "data": {
            "text/plain": [
              "18246"
            ]
          },
          "metadata": {
            "tags": []
          },
          "execution_count": 44
        }
      ]
    },
    {
      "cell_type": "code",
      "metadata": {
        "id": "eTj5qvp7nht6",
        "colab": {
          "base_uri": "https://localhost:8080/"
        },
        "outputId": "ba6ece9d-5215-4936-ffd6-a8c84bd6082c"
      },
      "source": [
        "#total reviews\n",
        "new_table.count()"
      ],
      "execution_count": 32,
      "outputs": [
        {
          "output_type": "execute_result",
          "data": {
            "text/plain": [
              "39095"
            ]
          },
          "metadata": {
            "tags": []
          },
          "execution_count": 32
        }
      ]
    },
    {
      "cell_type": "code",
      "metadata": {
        "id": "6ixcPUFUnlL0",
        "colab": {
          "base_uri": "https://localhost:8080/"
        },
        "outputId": "7264ae2c-bf9d-49e8-cba5-32498628c81b"
      },
      "source": [
        "#percentage of five star reviews\n",
        "five_star.count() / new_table.count()"
      ],
      "execution_count": 48,
      "outputs": [
        {
          "output_type": "execute_result",
          "data": {
            "text/plain": [
              "0.46990663767745233"
            ]
          },
          "metadata": {
            "tags": []
          },
          "execution_count": 48
        }
      ]
    },
    {
      "cell_type": "code",
      "metadata": {
        "id": "FrIW-udJnnYO",
        "colab": {
          "base_uri": "https://localhost:8080/"
        },
        "outputId": "3e0e64d6-8c31-40c9-e178-c3150c3a53b1"
      },
      "source": [
        "#percentage of paid reviews\n",
        "five_star.filter(five_star[\"verified_purchase\"] == \"Y\").count()/new_table.filter(new_table[\"verified_purchase\"]== \"Y\").count()"
      ],
      "execution_count": 47,
      "outputs": [
        {
          "output_type": "execute_result",
          "data": {
            "text/plain": [
              "0.4967071839837429"
            ]
          },
          "metadata": {
            "tags": []
          },
          "execution_count": 47
        }
      ]
    },
    {
      "cell_type": "code",
      "metadata": {
        "id": "m3zG4hRjnqFp",
        "colab": {
          "base_uri": "https://localhost:8080/"
        },
        "outputId": "504e2a70-5538-45bd-d019-e9c74294d31b"
      },
      "source": [
        "#percentage of unpaid reviews\n",
        "five_star.filter(five_star[\"verified_purchase\"] == \"N\").count()/new_table.filter(new_table[\"verified_purchase\"]== \"N\").count()"
      ],
      "execution_count": 23,
      "outputs": [
        {
          "output_type": "execute_result",
          "data": {
            "text/plain": [
              "0.41303306181121224"
            ]
          },
          "metadata": {
            "tags": []
          },
          "execution_count": 23
        }
      ]
    },
    {
      "cell_type": "code",
      "metadata": {
        "id": "TqB29lYwd9ny"
      },
      "source": [
        ""
      ],
      "execution_count": null,
      "outputs": []
    }
  ]
}